{
 "cells": [
  {
   "cell_type": "code",
   "execution_count": 2,
   "id": "02518f18-207b-4942-8a2b-3f92087017f5",
   "metadata": {},
   "outputs": [
    {
     "name": "stdin",
     "output_type": "stream",
     "text": [
      " 3\n",
      " 3\n",
      " 2\n",
      " 10\n"
     ]
    },
    {
     "name": "stdout",
     "output_type": "stream",
     "text": [
      "[[7 9 6]\n",
      " [5 2 4]\n",
      " [7 7 3]]\n"
     ]
    }
   ],
   "source": [
    "#2 Задание\n",
    "import numpy as np\n",
    "\n",
    "def generate_random_matrix(m, n, min_limit=0, max_limit=10):\n",
    "    return np.random.randint(min_limit, max_limit, size=(m, n))\n",
    "\n",
    "m = int(input())\n",
    "n = int(input())\n",
    "min_limit = int(input())\n",
    "max_limit = int(input())\n",
    "\n",
    "random_matrix = generate_random_matrix(m, n, min_limit, max_limit)\n",
    "print(random_matrix)\n"
   ]
  },
  {
   "cell_type": "code",
   "execution_count": 1,
   "id": "334a4502-6d3f-4c10-b0d2-f69062e579fd",
   "metadata": {},
   "outputs": [
    {
     "name": "stdout",
     "output_type": "stream",
     "text": [
      "Исходная матрица:\n",
      "[[ 6 81 79 94 47]\n",
      " [45 79 38 50 21]\n",
      " [ 8 76 71 88 22]\n",
      " [78 30 64 54 54]\n",
      " [41 77 99  3 42]]\n",
      "Отсортированная матрица:\n",
      "[[ 6 47 79 81 94]\n",
      " [21 38 45 50 79]\n",
      " [ 8 22 71 76 88]\n",
      " [30 54 54 64 78]\n",
      " [ 3 41 42 77 99]]\n",
      "--- 0 ms ---\n"
     ]
    }
   ],
   "source": [
    "#3 Zadaniye\n",
    "import numpy as np\n",
    "import time\n",
    "\n",
    "def selection_sort(matrix):\n",
    "    for row in matrix:\n",
    "        for i in range(len(row)):\n",
    "            min_index = i\n",
    "            for j in range(i+1, len(row)):\n",
    "                if row[j] < row[min_index]:\n",
    "                    min_index = j\n",
    "            row[i], row[min_index] = row[min_index], row[i]\n",
    "    return matrix\n",
    "\n",
    "# Пример использования\n",
    "matrix = np.random.randint(0, 100, size=(5, 5))\n",
    "print(\"Исходная матрица:\")\n",
    "print(matrix)\n",
    "\n",
    "start_time = time.time()\n",
    "sorted_matrix = selection_sort(matrix.copy())\n",
    "print(\"Отсортированная матрица:\")\n",
    "print(sorted_matrix)\n",
    "print(\"--- {0} ms ---\".format(round((time.time() - start_time)*1000)))\n"
   ]
  },
  {
   "cell_type": "code",
   "execution_count": 2,
   "id": "96dbc75a-0e8c-400d-be04-c1a36a307d33",
   "metadata": {},
   "outputs": [
    {
     "name": "stdout",
     "output_type": "stream",
     "text": [
      "Исходная матрица:\n",
      "[[76 99 71 99 22]\n",
      " [84 86 70 41 89]\n",
      " [22 21 96 20 97]\n",
      " [69  7 77 38 93]\n",
      " [11  7 39  8 80]]\n",
      "Отсортированная матрица:\n",
      "[[22 71 76 99 99]\n",
      " [41 70 84 86 89]\n",
      " [20 21 22 96 97]\n",
      " [ 7 38 69 77 93]\n",
      " [ 7  8 11 39 80]]\n",
      "--- 1 ms ---\n"
     ]
    }
   ],
   "source": [
    "# Сортировка вставкой\n",
    "import numpy as np\n",
    "import time\n",
    "\n",
    "def insertion_sort(matrix):\n",
    "    for row in matrix:\n",
    "        for i in range(1, len(row)):\n",
    "            key = row[i]\n",
    "            j = i - 1\n",
    "            while j >= 0 and key < row[j]:\n",
    "                row[j + 1] = row[j]\n",
    "                j -= 1\n",
    "            row[j + 1] = key\n",
    "    return matrix\n",
    "\n",
    "# Пример использования\n",
    "matrix = np.random.randint(0, 100, size=(5, 5))\n",
    "print(\"Исходная матрица:\")\n",
    "print(matrix)\n",
    "\n",
    "start_time = time.time()\n",
    "sorted_matrix = insertion_sort(matrix.copy())\n",
    "print(\"Отсортированная матрица:\")\n",
    "print(sorted_matrix)\n",
    "print(\"--- {0} ms ---\".format(round((time.time() - start_time)*1000)))\n"
   ]
  },
  {
   "cell_type": "code",
   "execution_count": 3,
   "id": "989196c2-74bb-4b4b-aa71-b7b829cb0dd0",
   "metadata": {},
   "outputs": [
    {
     "name": "stdout",
     "output_type": "stream",
     "text": [
      "Исходная матрица:\n",
      "[[87 46 56 96 44]\n",
      " [29 98 24 52 12]\n",
      " [99 43 45 81  7]\n",
      " [26 90 89 46  3]\n",
      " [86 67 10 14 52]]\n",
      "Отсортированная матрица:\n",
      "[[44 46 56 87 96]\n",
      " [12 24 29 52 98]\n",
      " [ 7 43 45 81 99]\n",
      " [ 3 26 46 89 90]\n",
      " [10 14 52 67 86]]\n",
      "--- 1 ms ---\n"
     ]
    }
   ],
   "source": [
    "# Сортировка пузырьком\n",
    "import numpy as np\n",
    "import time\n",
    "\n",
    "def bubble_sort(matrix):\n",
    "    for row in matrix:\n",
    "        n = len(row)\n",
    "        for i in range(n):\n",
    "            for j in range(0, n-i-1):\n",
    "                if row[j] > row[j+1]:\n",
    "                    row[j], row[j+1] = row[j+1], row[j]\n",
    "    return matrix\n",
    "\n",
    "# Пример использования\n",
    "matrix = np.random.randint(0, 100, size=(5, 5))\n",
    "print(\"Исходная матрица:\")\n",
    "print(matrix)\n",
    "\n",
    "start_time = time.time()\n",
    "sorted_matrix = bubble_sort(matrix.copy())\n",
    "print(\"Отсортированная матрица:\")\n",
    "print(sorted_matrix)\n",
    "print(\"--- {0} ms ---\".format(round((time.time() - start_time)*1000)))\n"
   ]
  },
  {
   "cell_type": "code",
   "execution_count": 4,
   "id": "d69e90c3-e3aa-441e-823d-7414bdb47002",
   "metadata": {},
   "outputs": [
    {
     "name": "stdout",
     "output_type": "stream",
     "text": [
      "Исходная матрица:\n",
      "[[64 16 80 79 35]\n",
      " [72 95 25 78 91]\n",
      " [ 2 37  8 91 32]\n",
      " [25 99 53 25 26]\n",
      " [56 51 27 64  8]]\n",
      "Отсортированная матрица:\n",
      "[[16 35 64 79 80]\n",
      " [25 72 78 91 95]\n",
      " [ 2  8 32 37 91]\n",
      " [25 25 26 53 99]\n",
      " [ 8 27 51 56 64]]\n",
      "--- 1 ms ---\n"
     ]
    }
   ],
   "source": [
    "#Сортировка шелла\n",
    "\n",
    "import numpy as np\n",
    "import time\n",
    "\n",
    "def shell_sort(matrix):\n",
    "    for row in matrix:\n",
    "        n = len(row)\n",
    "        gap = n // 2\n",
    "        while gap > 0:\n",
    "            for i in range(gap, n):\n",
    "                temp = row[i]\n",
    "                j = i\n",
    "                while j >= gap and row[j - gap] > temp:\n",
    "                    row[j] = row[j - gap]\n",
    "                    j -= gap\n",
    "                row[j] = temp\n",
    "            gap //= 2\n",
    "    return matrix\n",
    "\n",
    "# Пример использования\n",
    "matrix = np.random.randint(0, 100, size=(5, 5))\n",
    "print(\"Исходная матрица:\")\n",
    "print(matrix)\n",
    "\n",
    "start_time = time.time()\n",
    "sorted_matrix = shell_sort(matrix.copy())\n",
    "print(\"Отсортированная матрица:\")\n",
    "print(sorted_matrix)\n",
    "print(\"--- {0} ms ---\".format(round((time.time() - start_time)*1000)))\n"
   ]
  },
  {
   "cell_type": "code",
   "execution_count": 5,
   "id": "91d17259-85c5-4639-a8c7-bdf6774ab0b5",
   "metadata": {},
   "outputs": [
    {
     "name": "stdout",
     "output_type": "stream",
     "text": [
      "Исходная матрица:\n",
      "[[41 83 67 63 97]\n",
      " [61 62 93  4 10]\n",
      " [22 34 94 89 62]\n",
      " [25 46 48 20  1]\n",
      " [45 30 54 93 27]]\n",
      "Отсортированная матрица:\n",
      "[[41 63 67 83 97]\n",
      " [ 4 10 61 62 93]\n",
      " [22 34 62 89 94]\n",
      " [ 1 20 25 46 48]\n",
      " [27 30 45 54 93]]\n",
      "--- 0 ms ---\n"
     ]
    }
   ],
   "source": [
    "#Быстрая сортировка\n",
    "import numpy as np\n",
    "import time\n",
    "\n",
    "def quick_sort(matrix):\n",
    "    for i in range(len(matrix)):\n",
    "        matrix[i] = quick_sort_helper(matrix[i])\n",
    "    return matrix\n",
    "\n",
    "def quick_sort_helper(arr):\n",
    "    if len(arr) <= 1:\n",
    "        return arr\n",
    "    pivot = arr[len(arr) // 2]\n",
    "    left = [x for x in arr if x < pivot]\n",
    "    middle = [x for x in arr if x == pivot]\n",
    "    right = [x for x in arr if x > pivot]\n",
    "    return quick_sort_helper(left) + middle + quick_sort_helper(right)\n",
    "\n",
    "# Пример использования\n",
    "matrix = np.random.randint(0, 100, size=(5, 5))\n",
    "print(\"Исходная матрица:\")\n",
    "print(matrix)\n",
    "\n",
    "start_time = time.time()\n",
    "sorted_matrix = quick_sort(matrix.copy())\n",
    "print(\"Отсортированная матрица:\")\n",
    "print(sorted_matrix)\n",
    "print(\"--- {0} ms ---\".format(round((time.time() - start_time)*1000)))\n"
   ]
  },
  {
   "cell_type": "code",
   "execution_count": 6,
   "id": "76f641c3-79b5-4b91-809e-08a281a8d8bb",
   "metadata": {},
   "outputs": [
    {
     "name": "stdout",
     "output_type": "stream",
     "text": [
      "Исходная матрица:\n",
      "[[53 37 65 48 25]\n",
      " [50 78 20 55 39]\n",
      " [55  4 18 32 95]\n",
      " [86 55 72 25 88]\n",
      " [56 67 14 95 81]]\n",
      "Отсортированная матрица:\n",
      "[[25 37 48 53 65]\n",
      " [20 39 50 55 78]\n",
      " [ 4 18 32 55 95]\n",
      " [25 55 72 86 88]\n",
      " [14 56 67 81 95]]\n",
      "--- 1 ms ---\n"
     ]
    }
   ],
   "source": [
    "#Турирная сортировка\n",
    "import numpy as np\n",
    "import time\n",
    "\n",
    "def tournament_sort(matrix):\n",
    "    for i in range(len(matrix)):\n",
    "        matrix[i] = tournament_sort_helper(matrix[i])\n",
    "    return matrix\n",
    "\n",
    "def tournament_sort_helper(arr):\n",
    "    n = len(arr)\n",
    "    tree = [None] * (2 * n)\n",
    "    for i in range(n):\n",
    "        tree[n + i] = (arr[i], i)\n",
    "    for i in range(n - 1, 0, -1):\n",
    "        tree[i] = min(tree[2 * i], tree[2 * i + 1])\n",
    "    sorted_arr = []\n",
    "    for _ in range(n):\n",
    "        min_val, min_index = tree[1]\n",
    "        sorted_arr.append(min_val)\n",
    "        tree[n + min_index] = (float('inf'), min_index)\n",
    "        min_index += n\n",
    "        while min_index > 1:\n",
    "            min_index //= 2\n",
    "            tree[min_index] = min(tree[2 * min_index], tree[2 * min_index + 1])\n",
    "    return sorted_arr\n",
    "\n",
    "# Пример использования\n",
    "matrix = np.random.randint(0, 100, size=(5, 5))\n",
    "print(\"Исходная матрица:\")\n",
    "print(matrix)\n",
    "\n",
    "start_time = time.time()\n",
    "sorted_matrix = tournament_sort(matrix.copy())\n",
    "print(\"Отсортированная матрица:\")\n",
    "print(sorted_matrix)\n",
    "print(\"--- {0} ms ---\".format(round((time.time() - start_time)*1000)))\n"
   ]
  },
  {
   "cell_type": "code",
   "execution_count": null,
   "id": "61c8169c-b1b3-42dc-a4bb-0949b9071e1b",
   "metadata": {},
   "outputs": [],
   "source": []
  }
 ],
 "metadata": {
  "kernelspec": {
   "display_name": "Python 3 (ipykernel)",
   "language": "python",
   "name": "python3"
  },
  "language_info": {
   "codemirror_mode": {
    "name": "ipython",
    "version": 3
   },
   "file_extension": ".py",
   "mimetype": "text/x-python",
   "name": "python",
   "nbconvert_exporter": "python",
   "pygments_lexer": "ipython3",
   "version": "3.10.7"
  }
 },
 "nbformat": 4,
 "nbformat_minor": 5
}
