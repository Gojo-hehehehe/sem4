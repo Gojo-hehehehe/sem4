{
 "cells": [
  {
   "cell_type": "code",
   "execution_count": 6,
   "id": "c61cdcf0",
   "metadata": {},
   "outputs": [],
   "source": [
    "class Stack:\n",
    "    def __init__(self):\n",
    "        self.items = []\n",
    "\n",
    "    def is_empty(self):\n",
    "        return self.items == []\n",
    "\n",
    "    def push(self, item):\n",
    "        self.items.append(item)\n",
    "\n",
    "    def pop(self):\n",
    "        return self.items.pop()\n",
    "    \n",
    "    def peek(self):\n",
    "        return self.items[-1]\n",
    "\n",
    "class Deque:\n",
    "    def __init__(self):\n",
    "        self.items = []\n",
    "\n",
    "    def is_empty(self):\n",
    "        return self.items == []\n",
    "\n",
    "    def add_front(self, item):\n",
    "        self.items.append(item)\n",
    "\n",
    "    def add_rear(self, item):\n",
    "        self.items.insert(0, item)\n",
    "\n",
    "    def remove_front(self):\n",
    "        return self.items.pop()\n",
    "\n",
    "    def remove_rear(self):\n",
    "        return self.items.pop(0)"
   ]
  },
  {
   "cell_type": "markdown",
   "id": "d9031465",
   "metadata": {},
   "source": [
    "# Задание 1"
   ]
  },
  {
   "cell_type": "code",
   "execution_count": 25,
   "id": "6d74addc",
   "metadata": {},
   "outputs": [
    {
     "name": "stdout",
     "output_type": "stream",
     "text": [
      "\n",
      "\n",
      "Call me by your name\n",
      "Harry Potter\n",
      "After You\n"
     ]
    }
   ],
   "source": [
    "def sort_book_titles(filename):\n",
    "    # Чтение файла\n",
    "    with open(filename, 'r', encoding='utf-8') as file:\n",
    "        lines = file.readlines()\n",
    "\n",
    "    # Создание двух деков\n",
    "    deque1 = Deque()\n",
    "    deque2 = Deque()\n",
    "\n",
    "    # Распределение элементов между деками\n",
    "    for line in lines:\n",
    "        while not deque1.is_empty() and deque1.items[-1] < line.strip():\n",
    "            deque2.add_rear(deque1.remove_front())\n",
    "        deque1.add_rear(line.strip())\n",
    "\n",
    "    # Объединение деков и сортировка\n",
    "    while not deque1.is_empty():\n",
    "        deque2.add_front(deque1.remove_front())\n",
    "\n",
    "    sorted_lines = []\n",
    "    while not deque2.is_empty():\n",
    "        sorted_lines.append(deque2.remove_front())\n",
    "\n",
    "    # Сохранение результата в файл\n",
    "    with open('sorted_books.txt', 'w', encoding='utf-8') as file:\n",
    "        for line in sorted_lines:\n",
    "            file.write(line + '\\n')\n",
    "\n",
    "    # Вывод результата на экран\n",
    "    for line in sorted_lines:\n",
    "        print(line)\n",
    "\n",
    "# Вызов функции сортировки\n",
    "sort_book_titles('input.txt')\n"
   ]
  },
  {
   "cell_type": "markdown",
   "id": "d87b839a",
   "metadata": {},
   "source": [
    "# Задание 2"
   ]
  },
  {
   "cell_type": "code",
   "execution_count": 27,
   "id": "cde19252",
   "metadata": {},
   "outputs": [
    {
     "name": "stdout",
     "output_type": "stream",
     "text": [
      "Расшифрованное сообщение:\n",
      "hello\n"
     ]
    }
   ],
   "source": [
    "def decrypt_message(filename):\n",
    "    alphabet = \"abcdefghijklmnopqrstuvwxyz\"  # предполагается, что используется только маленькие буквы\n",
    "    decryption_deque = Deque()\n",
    "    for char in alphabet:\n",
    "        decryption_deque.add_rear(char)\n",
    "\n",
    "    decrypted_message = \"\"\n",
    "\n",
    "    with open(filename, \"r\") as file:\n",
    "        encrypted_message = file.readline().strip()\n",
    "\n",
    "    for char in encrypted_message:\n",
    "        if char.isalpha():\n",
    "            index = decryption_deque.items.index(char)\n",
    "            decrypted_char = decryption_deque.items[(index + 1) % len(decryption_deque.items)]\n",
    "            decrypted_message += decrypted_char\n",
    "            decryption_deque.remove_front()\n",
    "            decryption_deque.add_rear(decrypted_char)\n",
    "        else:\n",
    "            decrypted_message += char\n",
    "\n",
    "    print(\"Расшифрованное сообщение:\")\n",
    "    print(decrypted_message)\n",
    "\n",
    "    with open(\"decrypted_message.txt\", \"w\") as file:\n",
    "        file.write(decrypted_message)\n",
    "\n",
    "# Файл enctypt.txt содержит строку ifmmp и если ее расшифровать получится hello\n",
    "decrypt_message(\"input2.txt\")\n"
   ]
  },
  {
   "cell_type": "markdown",
   "id": "b9d68ebb",
   "metadata": {},
   "source": [
    "# Задание 3"
   ]
  },
  {
   "cell_type": "code",
   "execution_count": 13,
   "id": "c55f65fb",
   "metadata": {},
   "outputs": [
    {
     "name": "stdout",
     "output_type": "stream",
     "text": [
      "Результат:\n",
      "Стержень А: []\n",
      "Стержень B: []\n",
      "Стержень C: [1, 2, 3, 4, 5]\n"
     ]
    }
   ],
   "source": [
    "class Stack:\n",
    "    def __init__(self):\n",
    "        self.stack = []\n",
    "\n",
    "    def is_empty(self):\n",
    "        return len(self.stack) == 0\n",
    "\n",
    "    def push(self, item):\n",
    "        self.stack.append(item)\n",
    "\n",
    "    def pop(self):\n",
    "        if self.is_empty():\n",
    "            return None\n",
    "        return self.stack.pop()\n",
    "\n",
    "    def peek(self):\n",
    "        if self.is_empty():\n",
    "            return None\n",
    "        return self.stack[-1]\n",
    "\n",
    "def hanoi_towers(n, source, auxiliary, destination):\n",
    "    if n == 1:\n",
    "        destination.push(source.pop())\n",
    "        return\n",
    "\n",
    "    hanoi_towers(n - 1, source, destination, auxiliary)\n",
    "    destination.push(source.pop())\n",
    "    hanoi_towers(n - 1, auxiliary, source, destination)\n",
    "\n",
    "# Чтение данных из файла\n",
    "with open(\"input3.txt\", \"r\") as f:\n",
    "    n = int(f.readline().strip())\n",
    "    source = Stack()\n",
    "    disks = list(map(int, f.readline().strip().split()))\n",
    "    for disk in disks[::-1]:\n",
    "        source.push(disk)\n",
    "\n",
    "# Инициализация дополнительных стеков\n",
    "auxiliary = Stack()\n",
    "destination = Stack()\n",
    "\n",
    "# Вызов алгоритма\n",
    "hanoi_towers(n, source, auxiliary, destination)\n",
    "\n",
    "# Вывод результата\n",
    "print(\"Результат:\")\n",
    "print(\"Стержень А:\", list(source.stack))\n",
    "print(\"Стержень B:\", list(auxiliary.stack))\n",
    "print(\"Стержень C:\", list(destination.stack))"
   ]
  },
  {
   "cell_type": "markdown",
   "id": "a864d07b",
   "metadata": {},
   "source": [
    "# Задание 4"
   ]
  },
  {
   "cell_type": "code",
   "execution_count": 28,
   "id": "12ffd768",
   "metadata": {},
   "outputs": [
    {
     "name": "stdout",
     "output_type": "stream",
     "text": [
      "Баланс скобок соблюден\n"
     ]
    },
    {
     "data": {
      "text/plain": [
       "True"
      ]
     },
     "execution_count": 28,
     "metadata": {},
     "output_type": "execute_result"
    }
   ],
   "source": [
    "def check_brackets_balance(filename):\n",
    "    stack = Stack()\n",
    "\n",
    "    with open(filename, \"r\") as file:\n",
    "        program_text = file.read()\n",
    "\n",
    "    for char in program_text:\n",
    "        if char == '(':\n",
    "            stack.push(char)\n",
    "        elif char == ')':\n",
    "            if stack.is_empty():\n",
    "                print(\"Баланс скобок нарушен: лишняя закрывающая скобка\")\n",
    "                return False\n",
    "            else:\n",
    "                stack.pop()\n",
    "\n",
    "    if stack.is_empty():\n",
    "        print(\"Баланс скобок соблюден\")\n",
    "        return True\n",
    "    else:\n",
    "        print(\"Баланс скобок нарушен: недостаточно закрывающих скобок\")\n",
    "        return False\n",
    "\n",
    "# Пример использования\n",
    "check_brackets_balance(\"input4.txt\")\n"
   ]
  },
  {
   "cell_type": "markdown",
   "id": "acfd77e7",
   "metadata": {},
   "source": [
    "# Задание 5"
   ]
  },
  {
   "cell_type": "code",
   "execution_count": 29,
   "id": "339d7f5f",
   "metadata": {},
   "outputs": [
    {
     "name": "stdout",
     "output_type": "stream",
     "text": [
      "Баланс скобок соблюден\n"
     ]
    },
    {
     "data": {
      "text/plain": [
       "True"
      ]
     },
     "execution_count": 29,
     "metadata": {},
     "output_type": "execute_result"
    }
   ],
   "source": [
    "def check_square_brackets_balance(filename):\n",
    "    deque = Deque()\n",
    "\n",
    "    with open(filename, \"r\") as file:\n",
    "        program_text = file.read()\n",
    "\n",
    "    for char in program_text:\n",
    "        if char == '[':\n",
    "            deque.add_front(char)\n",
    "        elif char == ']':\n",
    "            if deque.is_empty():\n",
    "                print(\"Баланс скобок нарушен: лишняя закрывающая скобка\")\n",
    "                return False\n",
    "            else:\n",
    "                deque.remove_front()\n",
    "\n",
    "    if deque.is_empty():\n",
    "        print(\"Баланс скобок соблюден\")\n",
    "        return True\n",
    "    else:\n",
    "        print(\"Баланс скобок нарушен: недостаточно закрывающих скобок\")\n",
    "        return False\n",
    "\n",
    "# Пример использования\n",
    "check_square_brackets_balance(\"input5.txt\")"
   ]
  },
  {
   "cell_type": "markdown",
   "id": "19deea2d",
   "metadata": {},
   "source": [
    "# Задание 6"
   ]
  },
  {
   "cell_type": "code",
   "execution_count": 30,
   "id": "64392b3e",
   "metadata": {},
   "outputs": [
    {
     "name": "stdout",
     "output_type": "stream",
     "text": [
      "Цифры:\n",
      "1 4 2 4 \n",
      "Буквы:\n",
      "f h d f h \n",
      "Остальные символы:\n",
      "( ) ( ) ( "
     ]
    }
   ],
   "source": [
    "def print_characters_in_order(filename):\n",
    "    digit_stack = Stack()\n",
    "    letter_stack = Stack()\n",
    "    other_stack = Stack()\n",
    "\n",
    "    with open(filename, \"r\") as file:\n",
    "        characters = file.read().strip()\n",
    "\n",
    "    for char in characters:\n",
    "        if char.isdigit():\n",
    "            digit_stack.push(char)\n",
    "        elif char.isalpha():\n",
    "            letter_stack.push(char)\n",
    "        else:\n",
    "            other_stack.push(char)\n",
    "\n",
    "    print(\"Цифры:\")\n",
    "    while not digit_stack.is_empty():\n",
    "        print(digit_stack.pop(), end=\" \")\n",
    "\n",
    "    print(\"\\nБуквы:\")\n",
    "    while not letter_stack.is_empty():\n",
    "        print(letter_stack.pop(), end=\" \")\n",
    "\n",
    "    print(\"\\nОстальные символы:\")\n",
    "    while not other_stack.is_empty():\n",
    "        print(other_stack.pop(), end=\" \")\n",
    "\n",
    "# Пример использования\n",
    "print_characters_in_order(\"input6.txt\")"
   ]
  },
  {
   "cell_type": "markdown",
   "id": "905fd207",
   "metadata": {},
   "source": [
    "# Задание 7"
   ]
  },
  {
   "cell_type": "code",
   "execution_count": 1,
   "id": "282f4993",
   "metadata": {},
   "outputs": [
    {
     "name": "stdout",
     "output_type": "stream",
     "text": [
      "Отрицательные числа:\n",
      "-12 -8 \n",
      "Положительные числа:\n",
      "1 2 3 4 5 "
     ]
    }
   ],
   "source": [
    "class Deque:\n",
    "    def __init__(self):\n",
    "        self.items = []\n",
    "\n",
    "    def is_empty(self):\n",
    "        return self.items == []\n",
    "\n",
    "    def add_front(self, item):\n",
    "        self.items.insert(0, item)\n",
    "\n",
    "    def add_rear(self, item):\n",
    "        self.items.append(item)\n",
    "\n",
    "    def remove_front(self):\n",
    "        return self.items.pop(0)\n",
    "\n",
    "    def remove_rear(self):\n",
    "        return self.items.pop()\n",
    "\n",
    "def print_numbers_in_order(filename):\n",
    "    negative_numbers_deque = Deque()\n",
    "    positive_numbers_deque = Deque()\n",
    "\n",
    "    with open(filename, \"r\") as file:\n",
    "        numbers = file.readlines()\n",
    "\n",
    "    for number in numbers:\n",
    "        num = int(number.strip())\n",
    "        if num < 0:\n",
    "            negative_numbers_deque.add_front(num)\n",
    "        else:\n",
    "            positive_numbers_deque.add_rear(num)\n",
    "\n",
    "    print(\"Отрицательные числа:\")\n",
    "    while not negative_numbers_deque.is_empty():\n",
    "        print(negative_numbers_deque.remove_front(), end=\" \")\n",
    "\n",
    "    print(\"\\nПоложительные числа:\")\n",
    "    while not positive_numbers_deque.is_empty():\n",
    "        print(positive_numbers_deque.remove_front(), end=\" \")\n",
    "\n",
    "# Пример использования\n",
    "print_numbers_in_order(\"input7.txt\")\n"
   ]
  },
  {
   "cell_type": "markdown",
   "id": "c291bf79",
   "metadata": {},
   "source": [
    "# Задание 8"
   ]
  },
  {
   "cell_type": "code",
   "execution_count": 7,
   "id": "cdf3bc70",
   "metadata": {},
   "outputs": [],
   "source": [
    "def reverse_lines(filename):\n",
    "    stack = Stack()\n",
    "\n",
    "    with open(filename, \"r\") as file:\n",
    "        lines = file.readlines()\n",
    "\n",
    "    for line in lines:\n",
    "        stack.push(line)\n",
    "\n",
    "    with open(\"reversed_\" + filename, \"w\") as file:\n",
    "        while not stack.is_empty():\n",
    "            file.write(stack.pop())\n",
    "\n",
    "reverse_lines(\"input7.txt\")"
   ]
  },
  {
   "cell_type": "code",
   "execution_count": null,
   "id": "46871d9c",
   "metadata": {},
   "outputs": [],
   "source": []
  },
  {
   "cell_type": "code",
   "execution_count": null,
   "id": "af1134c3-aabc-44c1-8352-80af61bd158f",
   "metadata": {},
   "outputs": [],
   "source": []
  },
  {
   "cell_type": "code",
   "execution_count": null,
   "id": "4c8355d0-8b3e-443c-b57c-659cfdc23fe8",
   "metadata": {},
   "outputs": [],
   "source": []
  },
  {
   "cell_type": "code",
   "execution_count": null,
   "id": "91443140-2738-49d5-8c99-cb592a2fd999",
   "metadata": {},
   "outputs": [],
   "source": []
  }
 ],
 "metadata": {
  "kernelspec": {
   "display_name": "Python 3 (ipykernel)",
   "language": "python",
   "name": "python3"
  },
  "language_info": {
   "codemirror_mode": {
    "name": "ipython",
    "version": 3
   },
   "file_extension": ".py",
   "mimetype": "text/x-python",
   "name": "python",
   "nbconvert_exporter": "python",
   "pygments_lexer": "ipython3",
   "version": "3.10.7"
  }
 },
 "nbformat": 4,
 "nbformat_minor": 5
}
