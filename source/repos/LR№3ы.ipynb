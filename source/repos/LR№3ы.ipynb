{
 "cells": [
  {
   "cell_type": "markdown",
   "metadata": {
    "id": "0z3KlfKDn4_K"
   },
   "source": [
    "# Лабораторная работа 3. \n",
    "# Сетевые алгоритмы. Динамические алгоритмы поиска путей.\n"
   ]
  },
  {
   "cell_type": "markdown",
   "metadata": {
    "id": "96Gi_LEvmSVH"
   },
   "source": [
    "## Выполнила студентка группы БФИ2201 Мирзобоева Сарвиноз\n",
    "***"
   ]
  },
  {
   "cell_type": "markdown",
   "metadata": {
    "id": "GjdIp8aToKIe"
   },
   "source": [
    "### Задание\n",
    "\n",
    "1.  Реализовать алгоритм поиска кратчайшего расстояния между двумя вершинами ориентированного взвешенного графа в соответствии с вариантом. \n",
    "\n",
    "2.  Предусмотреть задание графа в виде матрицы смежности/инцидентности, читаемой из файла, либо графически с помощью пользовательского интерфейса. \n",
    "\n",
    "3.  Разработать графический интерфейс пользователя с визуализацией графа и отображением кратчайшего расстояния между задаваемыми пользователем вершинами.\n",
    "\n",
    "4. По результатам работы проанализировать временную сложность работы заданного алгоритма в зависимости от числа узлов и ребер графа.\n",
    "Данные представить в виде таблицы.\n",
    "\n"
   ]
  },
  {
   "cell_type": "markdown",
   "metadata": {
    "id": "LhhUXrAmotIA"
   },
   "source": [
    "### Алгоритмы:\n",
    "\n",
    "Алгоритм Флойда-Уоршелла| Алгоритм Дейкстры | Алгоритм Беллмана-Форда | Алгоритм Джонсона| Алгоритм Левита | Алгоритм Йена\n",
    "\n"
   ]
  },
  {
   "cell_type": "markdown",
   "metadata": {
    "id": "Wggfn8l7nG72"
   },
   "source": [
    "### Выполнение:"
   ]
  },
  {
   "cell_type": "markdown",
   "metadata": {},
   "source": [
    "### Задание 1"
   ]
  },
  {
   "cell_type": "markdown",
   "metadata": {},
   "source": [
    "#### Алгоритм Дейкстры"
   ]
  },
  {
   "cell_type": "code",
   "execution_count": 10,
   "metadata": {},
   "outputs": [
    {
     "name": "stdout",
     "output_type": "stream",
     "text": [
      "Кратчайшие расстояния:\n",
      "0 -> 0\n",
      "1 -> 5\n",
      "2 -> 1\n",
      "3 -> 4\n",
      "4 -> 2\n"
     ]
    }
   ],
   "source": [
    "import sys\n",
    "class Graph:\n",
    "    def __init__(self, vertices):\n",
    "        self.V = vertices\n",
    "        self.graph = [[0 for column in range(vertices)] for row in range(vertices)]\n",
    "\n",
    "    def printSolution(self, dist):\n",
    "        print(\"Кратчайшие расстояния:\")\n",
    "        for node in range(self.V):\n",
    "            print(node, \"->\", dist[node])\n",
    "\n",
    "    def minDistance(self, dist, sptSet):\n",
    "        min_value = sys.maxsize\n",
    "        min_index = None\n",
    "\n",
    "        for v in range(self.V):\n",
    "            if dist[v] < min_value and not sptSet[v]:\n",
    "                min_value = dist[v]\n",
    "                min_index = v\n",
    "\n",
    "        return min_index\n",
    "    def dijkstra(self, src):\n",
    "        dist = [sys.maxsize] * self.V\n",
    "        dist[src] = 0\n",
    "        sptSet = [False] * self.V\n",
    "\n",
    "        for cout in range(self.V):\n",
    "            u = self.minDistance(dist, sptSet)\n",
    "            sptSet[u] = True\n",
    "\n",
    "            for v in range(self.V):\n",
    "                if (\n",
    "                    not sptSet[v]\n",
    "                    and self.graph[u][v] > 0\n",
    "                    and dist[u] != sys.maxsize\n",
    "                    and dist[u] + self.graph[u][v] < dist[v]\n",
    "                ):\n",
    "                    dist[v] = dist[u] + self.graph[u][v]\n",
    "\n",
    "        self.printSolution(dist)\n",
    "\n",
    "graph = [[0, 1*5, 1, 0, 1*2], \n",
    "         [1*5, 0, 1*7, 0, 0], \n",
    "         [1, 1*7, 0, 1*3, 1*4], \n",
    "         [0, 0, 1*3, 0, 0], \n",
    "         [1*2, 0, 1*4, 0, 0]\n",
    "        ]\n",
    "\n",
    "g = Graph(5)\n",
    "g.graph = graph\n",
    "\n",
    "g.dijkstra(0)"
   ]
  },
  {
   "cell_type": "markdown",
   "metadata": {},
   "source": [
    "#### Алгоритм Флойда-Уоршелла"
   ]
  },
  {
   "cell_type": "code",
   "execution_count": 13,
   "metadata": {},
   "outputs": [
    {
     "name": "stdout",
     "output_type": "stream",
     "text": [
      "Кратчайшие расстояния между всеми парами вершин:\n",
      "0\t5\t6\t7\t\n",
      "inf\t0\t1\t2\t\n",
      "inf\tinf\t0\t1\t\n",
      "inf\tinf\tinf\t0\t\n"
     ]
    }
   ],
   "source": [
    "class Graph:\n",
    "    def __init__(self, vertices):\n",
    "        self.V = vertices\n",
    "        self.graph = [[float('inf') for _ in range(vertices)] for _ in range(vertices)]\n",
    "        for i in range(self.V):\n",
    "            self.graph[i][i] = 0\n",
    "\n",
    "    def floyd_warshall(self):\n",
    "        for k in range(self.V):\n",
    "            for i in range(self.V):\n",
    "                for j in range(self.V):\n",
    "                    self.graph[i][j] = min(self.graph[i][j], self.graph[i][k] + self.graph[k][j])\n",
    "\n",
    "    def print_solution(self):\n",
    "        print(\"Кратчайшие расстояния между всеми парами вершин:\")\n",
    "        for i in range(self.V):\n",
    "            for j in range(self.V):\n",
    "                if self.graph[i][j] == float('inf'):\n",
    "                    print(\"inf\", end=\"\\t\")\n",
    "                else:\n",
    "                    print(self.graph[i][j], end=\"\\t\")\n",
    "            print()\n",
    "\n",
    "\n",
    "# Пример использования\n",
    "g = Graph(4)\n",
    "\n",
    "g.graph = [[0, 5, float('inf'), 8],\n",
    "           [float('inf'), 0, 1, float('inf')],\n",
    "           [float('inf'), float('inf'), 0, 1],\n",
    "           [float('inf'), float('inf'), float('inf'), 0]]\n",
    "\n",
    "g.floyd_warshall()\n",
    "g.print_solution()"
   ]
  },
  {
   "cell_type": "markdown",
   "metadata": {},
   "source": [
    "#### Алгоритм Беллмана-Форда"
   ]
  },
  {
   "cell_type": "code",
   "execution_count": 15,
   "metadata": {},
   "outputs": [
    {
     "name": "stdout",
     "output_type": "stream",
     "text": [
      "Кратчайшие расстояния от вершины 0\n",
      "До вершины 0: 0\n",
      "До вершины 1: -1\n",
      "До вершины 2: 2\n",
      "До вершины 3: -2\n",
      "До вершины 4: 1\n"
     ]
    }
   ],
   "source": [
    "from collections import defaultdict\n",
    "\n",
    "class Graph:\n",
    "    def __init__(self, vertices):\n",
    "        self.V = vertices\n",
    "        self.graph = defaultdict(list)\n",
    "\n",
    "    def add_edge(self, u, v, weight):\n",
    "        self.graph[u].append((v, weight))\n",
    "\n",
    "    def bellman_ford(self, source):\n",
    "        dist = {node: float('inf') for node in range(self.V)}\n",
    "        dist[source] = 0\n",
    "\n",
    "        for _ in range(self.V - 1):\n",
    "            for u in range(self.V):\n",
    "                for v, weight in self.graph[u]:\n",
    "                    if dist[u] != float('inf') and dist[u] + weight < dist[v]:\n",
    "                        dist[v] = dist[u] + weight\n",
    "        for u in range(self.V):\n",
    "            for v, weight in self.graph[u]:\n",
    "                if dist[u] != float('inf') and dist[u] + weight < dist[v]:\n",
    "                    print(\"Обнаружен отрицательный цикл!\")\n",
    "                    return\n",
    "\n",
    "        print(\"Кратчайшие расстояния от вершины\", source)\n",
    "        for node in range(self.V):\n",
    "            print(f\"До вершины {node}: {dist[node]}\")\n",
    "\n",
    "g = Graph(5)\n",
    "g.add_edge(0, 1, -1)\n",
    "g.add_edge(0, 2, 4)\n",
    "g.add_edge(1, 2, 3)\n",
    "g.add_edge(1, 3, 2)\n",
    "g.add_edge(1, 4, 2)\n",
    "g.add_edge(3, 2, 5)\n",
    "g.add_edge(3, 1, 1)\n",
    "g.add_edge(4, 3, -3)\n",
    "\n",
    "g.bellman_ford(0)"
   ]
  },
  {
   "cell_type": "markdown",
   "metadata": {},
   "source": [
    "#### Алгоритм Джонсона"
   ]
  },
  {
   "cell_type": "code",
   "execution_count": 39,
   "metadata": {},
   "outputs": [
    {
     "name": "stdout",
     "output_type": "stream",
     "text": [
      "\n",
      "Кратчайшие расстояние с вершиной 0\n",
      "Веришина 0: 0\n",
      "Веришина 1: 5\n",
      "Веришина 2: 1\n",
      "Веришина 3: 4\n",
      "Веришина 4: 2\n",
      "\n",
      "Кратчайшие расстояние с вершиной 1\n",
      "Веришина 0: 5\n",
      "Веришина 1: 0\n",
      "Веришина 2: 6\n",
      "Веришина 3: 9\n",
      "Веришина 4: 7\n",
      "\n",
      "Кратчайшие расстояние с вершиной 2\n",
      "Веришина 0: 1\n",
      "Веришина 1: 6\n",
      "Веришина 2: 0\n",
      "Веришина 3: 3\n",
      "Веришина 4: 3\n",
      "\n",
      "Кратчайшие расстояние с вершиной 3\n",
      "Веришина 0: 4\n",
      "Веришина 1: 9\n",
      "Веришина 2: 3\n",
      "Веришина 3: 0\n",
      "Веришина 4: 6\n",
      "\n",
      "Кратчайшие расстояние с вершиной 4\n",
      "Веришина 0: 2\n",
      "Веришина 1: 7\n",
      "Веришина 2: 3\n",
      "Веришина 3: 6\n",
      "Веришина 4: 0\n"
     ]
    }
   ],
   "source": [
    "from collections import defaultdict\n",
    "MAX_INT = float('Inf')\n",
    " \n",
    "def minDistance(dist, visited):\n",
    "    (minimum, minVertex) = (MAX_INT, 0)\n",
    "    for vertex in range(len(dist)):\n",
    "        if minimum > dist[vertex] and visited[vertex] == False:\n",
    "            (minimum, minVertex) = (dist[vertex], vertex)\n",
    "    return minVertex\n",
    " \n",
    "def Dijkstra(graph, modifiedGraph, src):\n",
    "    num_vertices = len(graph)\n",
    "    sptSet = defaultdict(lambda : False)\n",
    "    dist = [MAX_INT] * num_vertices\n",
    "    dist[src] = 0\n",
    " \n",
    "    for count in range(num_vertices):\n",
    "        curVertex = minDistance(dist, sptSet)\n",
    "        sptSet[curVertex] = True\n",
    "        for vertex in range(num_vertices):\n",
    "            if ((sptSet[vertex] == False) and\n",
    "                (dist[vertex] > (dist[curVertex] +\n",
    "                modifiedGraph[curVertex][vertex])) and\n",
    "                (graph[curVertex][vertex] != 0)):\n",
    "                dist[vertex] = (dist[curVertex] +\n",
    "                                modifiedGraph[curVertex][vertex]);\n",
    " \n",
    "    for vertex in range(num_vertices):\n",
    "        print ('Веришина ' + str(vertex) + ': ' + str(dist[vertex]))\n",
    "\n",
    "def BellmanFord(edges, graph, num_vertices):\n",
    "    dist = [MAX_INT] * (num_vertices + 1)\n",
    "    dist[num_vertices] = 0\n",
    "    for i in range(num_vertices):\n",
    "        edges.append([num_vertices, i, 0])\n",
    "    for i in range(num_vertices):\n",
    "        for (src, des, weight) in edges:\n",
    "            if((dist[src] != MAX_INT) and\n",
    "                    (dist[src] + weight < dist[des])):\n",
    "                dist[des] = dist[src] + weight\n",
    "    return dist[0:num_vertices]\n",
    "\n",
    "def JohnsonAlgorithm(graph):\n",
    "    edges = []\n",
    "    for i in range(len(graph)):\n",
    "        for j in range(len(graph[i])):\n",
    "            if graph[i][j] != 0:\n",
    "                edges.append([i, j, graph[i][j]])\n",
    "    modifyWeights = BellmanFord(edges, graph, len(graph))\n",
    "    modifiedGraph = [[0 for x in range(len(graph))] for y in\n",
    "                    range(len(graph))]\n",
    "    for i in range(len(graph)):\n",
    "        for j in range(len(graph[i])):\n",
    " \n",
    "            if graph[i][j] != 0:\n",
    "                modifiedGraph[i][j] = (graph[i][j] +\n",
    "                        modifyWeights[i] - modifyWeights[j]);\n",
    " \n",
    "    for src in range(len(graph)):\n",
    "        print ('\\nКратчайшие расстояние с вершиной ' + str(src))\n",
    "        Dijkstra(graph, modifiedGraph, src)\n",
    "\n",
    "graph = [[0, 1*5, 1, 0, 1*2], \n",
    "         [1*5, 0, 1*7, 0, 0], \n",
    "         [1, 1*7, 0, 1*3, 1*4], \n",
    "         [0, 0, 1*3, 0, 0], \n",
    "         [1*2, 0, 1*4, 0, 0]\n",
    "        ]\n",
    " \n",
    "JohnsonAlgorithm(graph)"
   ]
  },
  {
   "cell_type": "markdown",
   "metadata": {},
   "source": [
    "#### Алгоритм Левита"
   ]
  },
  {
   "cell_type": "code",
   "execution_count": 17,
   "metadata": {},
   "outputs": [
    {
     "name": "stdout",
     "output_type": "stream",
     "text": [
      "Кратчайший путь от 0 до 5 :\n",
      "0 -> 1 -> 3 -> 5\n",
      "Длина пути: 3\n"
     ]
    }
   ],
   "source": [
    "from collections import deque\n",
    "\n",
    "class Graph:\n",
    "    def __init__(self, vertices):\n",
    "        self.V = vertices\n",
    "        self.graph = [[] for _ in range(vertices)]\n",
    "\n",
    "    def add_edge(self, u, v):\n",
    "        self.graph[u].append(v)\n",
    "        self.graph[v].append(u)\n",
    "\n",
    "    def levit(self, source, target):\n",
    "        visited = [False] * self.V\n",
    "        parent = [-1] * self.V\n",
    "        level = [0] * self.V\n",
    "\n",
    "        queue = deque()\n",
    "        queue.append(source)\n",
    "        visited[source] = True\n",
    "\n",
    "        while queue:\n",
    "            u = queue.popleft()\n",
    "\n",
    "            if u == target:\n",
    "                break\n",
    "\n",
    "            for v in self.graph[u]:\n",
    "                if not visited[v]:\n",
    "                    visited[v] = True\n",
    "                    parent[v] = u\n",
    "                    level[v] = level[u] + 1\n",
    "                    queue.append(v)\n",
    "\n",
    "        if level[target] == 0:\n",
    "            print(\"Нет пути между вершинами.\")\n",
    "            return\n",
    "\n",
    "        path = []\n",
    "        current = target\n",
    "        while current != -1:\n",
    "            path.append(current)\n",
    "            current = parent[current]\n",
    "\n",
    "        path.reverse()\n",
    "        print(\"Кратчайший путь от\", source, \"до\", target, \":\")\n",
    "        print(\" -> \".join(str(v) for v in path))\n",
    "        print(\"Длина пути:\", level[target])\n",
    "\n",
    "# Пример использования\n",
    "g = Graph(6)\n",
    "g.add_edge(0, 1)\n",
    "g.add_edge(0, 4)\n",
    "g.add_edge(1, 2)\n",
    "g.add_edge(1, 3)\n",
    "g.add_edge(1, 4)\n",
    "g.add_edge(2, 3)\n",
    "g.add_edge(3, 4)\n",
    "g.add_edge(3, 5)\n",
    "\n",
    "source = 0\n",
    "target = 5\n",
    "g.levit(source, target)"
   ]
  },
  {
   "cell_type": "markdown",
   "metadata": {},
   "source": [
    "#### Алгоритм Йена"
   ]
  },
  {
   "cell_type": "code",
   "execution_count": 24,
   "metadata": {},
   "outputs": [
    {
     "name": "stdout",
     "output_type": "stream",
     "text": [
      "Кратчайший путь от 0 до 2: 0 -> 1 -> 2 \n",
      "Длина пути: 3\n"
     ]
    }
   ],
   "source": [
    "from collections import deque\n",
    "\n",
    "def yen(graph, start, end):\n",
    "    queue = deque([(start, [start])])\n",
    "    shortest_path = None\n",
    "    shortest_distance = float('infinity')\n",
    "\n",
    "    while queue:\n",
    "        current_node, path = queue.popleft()\n",
    "\n",
    "        if current_node == end:\n",
    "            path_distance = sum(graph[path[i - 1]][path[i]] for i in range(1, len(path)))\n",
    "\n",
    "            if path_distance < shortest_distance:\n",
    "                shortest_distance = path_distance\n",
    "                shortest_path = path\n",
    "\n",
    "            continue\n",
    "\n",
    "        for neighbor, weight in graph[current_node].items():\n",
    "            if neighbor not in path:\n",
    "                new_path = path + [neighbor]\n",
    "                queue.append((neighbor, new_path))\n",
    "\n",
    "    return shortest_path, shortest_distance\n",
    "\n",
    "\n",
    "graph = {\n",
    "    0: {1: 1, 2: 4},\n",
    "    1: {0: 1, 2: 2, 3: 5},\n",
    "    2: {0: 4, 1: 2, 3: 1},\n",
    "    3: {1: 5, 2: 1, 4: 3},\n",
    "    4: {3: 3, 5: 1},\n",
    "    5: {4: 1}\n",
    "}\n",
    "\n",
    "start = 0\n",
    "end = 2\n",
    "\n",
    "shortest_path, shortest_distance = yen(graph, start, end)\n",
    "\n",
    "print(f\"Кратчайший путь от {start} до {end}:\", \" -> \".join(map(str, shortest_path)), \n",
    "      \"\\nДлина пути:\", shortest_distance)\n"
   ]
  },
  {
   "cell_type": "markdown",
   "metadata": {},
   "source": [
    "### Задание 2"
   ]
  },
  {
   "cell_type": "code",
   "execution_count": 11,
   "metadata": {},
   "outputs": [
    {
     "name": "stdout",
     "output_type": "stream",
     "text": [
      "Кратчайшие расстояния:\n",
      "0 -> 0\n",
      "1 -> 5\n",
      "2 -> 1\n",
      "3 -> 4\n",
      "4 -> 2\n"
     ]
    }
   ],
   "source": [
    "def read_graph(file_path):\n",
    "    with open(file_path, 'r') as file:\n",
    "        lines = file.readlines()\n",
    "        vertices = int(lines[0])\n",
    "        graph = []\n",
    "        for line in lines[1:]:\n",
    "            row = [int(x) for x in line.split()]\n",
    "            graph.append(row)\n",
    "    return vertices, graph\n",
    "\n",
    "file = 'graph.txt'\n",
    "vertices, graph = read_graph(file)\n",
    "g = Graph(vertices)\n",
    "g.graph = graph\n",
    "\n",
    "g.dijkstra(0)"
   ]
  },
  {
   "cell_type": "markdown",
   "metadata": {},
   "source": [
    "### Задание 3"
   ]
  },
  {
   "cell_type": "code",
   "execution_count": null,
   "metadata": {},
   "outputs": [],
   "source": [
    "import networkx as nx\n",
    "import matplotlib.pyplot as plt\n",
    "\n",
    "G = nx.Graph()\n",
    "G.add_nodes_from([1, 2, 3, 4, 5, 6, 7])\n",
    "G.add_edges_from([(1, 2), (2, 3), (2, 4), (3, 4), (4, 5), (6, 1), (7, 3), (6, 2)])\n",
    "\n",
    "nx.draw(G, with_labels=True, node_color='lightblue', edge_color='gray')\n",
    "plt.show()\n",
    "\n",
    "start = int(input(\"Введите превую вершину: \"))\n",
    "end = int(input(\"Введите вторую вершину: \"))\n",
    "short = nx.shortest_path_length(G, start, end)\n",
    "\n",
    "print(f\"Кратчайшее расстояние между вершинами {start} и {end}: {short}\")"
   ]
  },
  {
   "cell_type": "markdown",
   "metadata": {},
   "source": [
    "### Задание 4"
   ]
  },
  {
   "cell_type": "code",
   "execution_count": 1,
   "metadata": {},
   "outputs": [
    {
     "name": "stdout",
     "output_type": "stream",
     "text": [
      "Времена работы алгоритма Дейкстры:\n",
      "Граф с 100 вершинами и 150.0 ребрами: 0.0 сек.\n",
      "Граф с 1000 вершинами и 1500.0 ребрами: 0.0020003318786621094 сек.\n",
      "Граф с 10000 вершинами и 15000.0 ребрами: 0.02623915672302246 сек.\n",
      "Граф с 100000 вершинами и 150000.0 ребрами: 0.5973734855651855 сек.\n",
      "Граф с 1000000 вершинами и 1500000.0 ребрами: 8.319844245910645 сек.\n"
     ]
    }
   ],
   "source": [
    "import random\n",
    "import time\n",
    "import heapq\n",
    "from collections import defaultdict\n",
    "\n",
    "def generate(vertices, edges):\n",
    "    graph = defaultdict(list)\n",
    "    for _ in range(edges):\n",
    "        v1, v2 = random.sample(range(vertices), 2)\n",
    "        weight = random.randint(1, 10)\n",
    "        graph[v1].append((v2, weight))\n",
    "        graph[v2].append((v1, weight))\n",
    "    return graph\n",
    "\n",
    "def dijkstra(graph, start):\n",
    "    distances = {v: float('inf') for v in graph}\n",
    "    distances[start] = 0\n",
    "    priority = [(0, start)]\n",
    "    while priority:\n",
    "        current_distance, current_vertex = heapq.heappop(priority)\n",
    "        if current_distance > distances[current_vertex]:\n",
    "            continue\n",
    "        for neighbor, weight in graph[current_vertex]:\n",
    "            distance = current_distance + weight\n",
    "            if distance < distances[neighbor]:\n",
    "                distances[neighbor] = distance\n",
    "                heapq.heappush(priority, (distance, neighbor))\n",
    "    return distances\n",
    "\n",
    "num_tests = 5\n",
    "times = []\n",
    "for i in range(num_tests):\n",
    "    num_vert = 10 ** (i + 2)\n",
    "    num_edges = int(num_vert * 1.5)\n",
    "    graph = generate(num_vert, num_edges)\n",
    "    start = random.randint(0, num_vert - 1)\n",
    "    start_time = time.time()\n",
    "    dijkstra(graph, start)\n",
    "    end_time = time.time()\n",
    "    elapsed_time = end_time - start_time\n",
    "    times.append(elapsed_time)\n",
    "\n",
    "print(\"Времена работы алгоритма Дейкстры:\")\n",
    "for i in range(num_tests):\n",
    "    num_vert = 10 ** (i + 2)\n",
    "    print(f\"Граф с {num_vert} вершинами и {num_vert * 1.5} ребрами: {times[i]} сек.\")\n"
   ]
  },
  {
   "cell_type": "markdown",
   "metadata": {
    "id": "diOb-K7LnO5a"
   },
   "source": [
    "### Вывод"
   ]
  }
 ],
 "metadata": {
  "colab": {
   "provenance": [
    {
     "file_id": "1PB29AfCQqtCPpQJrN1jpaKF1cw_5iEo0",
     "timestamp": 1679127006477
    }
   ]
  },
  "kernelspec": {
   "display_name": "Python 3 (ipykernel)",
   "language": "python",
   "name": "python3"
  },
  "language_info": {
   "codemirror_mode": {
    "name": "ipython",
    "version": 3
   },
   "file_extension": ".py",
   "mimetype": "text/x-python",
   "name": "python",
   "nbconvert_exporter": "python",
   "pygments_lexer": "ipython3",
   "version": "3.10.7"
  }
 },
 "nbformat": 4,
 "nbformat_minor": 4
}
